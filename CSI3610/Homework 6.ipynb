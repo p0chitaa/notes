{
 "cells": [
  {
   "cell_type": "markdown",
   "metadata": {},
   "source": [
    "# Homework 6\n",
    "Drew Bonde"
   ]
  },
  {
   "cell_type": "markdown",
   "metadata": {},
   "source": [
    "## Problem Definition\n",
    "The first function you have to write is sort_three. It receives two parameters. The first parameter is an array that contains multiple instances of at most three elements, but unsorted and possibly repeated multiple times. The second parameter is an array of exactly three elements (the same as the first array) that indicates in which order to sort the first array. You are not allowed any additional space. The sort must be in place. The function sorts the array in time $Θ(n)$ where n is the length of the array. Hint: use a scanning approach."
   ]
  },
  {
   "cell_type": "markdown",
   "metadata": {},
   "source": [
    "## My Approach\n",
    "Looking at the description, it looks like p1 and p2 will always be the same. I wanted to create variables, called `p0` and `p1` which store said values to be returned. I wanted to loop through the array and swap values according to the values of p0 and p1."
   ]
  },
  {
   "cell_type": "markdown",
   "metadata": {},
   "source": [
    "## The Code"
   ]
  },
  {
   "cell_type": "code",
   "execution_count": 171,
   "metadata": {},
   "outputs": [],
   "source": [
    "def sort_three(array, elements):\n",
    "    p0 = 0\n",
    "    p1 = 0\n",
    "    for i in range(len(array)):\n",
    "        if(array[i] == elements[0]):\n",
    "            array[i], array[p0] = array[p0], array[i]\n",
    "            p0 = p0 + 1\n",
    "            if p0 > p1:\n",
    "                p1 = p0\n",
    "        if(array[i] == elements[1]):\n",
    "            array[i], array[p1] = array[p1], array[i]\n",
    "            p1 = p1 + 1\n",
    "    return(p0, p1, p1)"
   ]
  },
  {
   "cell_type": "markdown",
   "metadata": {},
   "source": [
    "## Some Basic Tests"
   ]
  },
  {
   "cell_type": "code",
   "execution_count": 179,
   "metadata": {},
   "outputs": [
    {
     "name": "stdout",
     "output_type": "stream",
     "text": [
      "(0, 0, 0)\n",
      "(9, 9, 9)\n",
      "(0, 0, 0)\n"
     ]
    }
   ],
   "source": [
    "# no value in B is in A\n",
    "# expected: (0, 0, 0)\n",
    "# actual: (0, 0, 0)\n",
    "A=[3, 3, 3, 3, 3, 3, 3, 3, 3, 3]\n",
    "B = [1, 0, 2]\n",
    "print(sort_three(A, B))\n",
    "\n",
    "# 1 value in B is the only value in A\n",
    "# expected: (len(a), len(a), len(a))\n",
    "# actual: (len(a), len(a), len(a))\n",
    "A = [1, 1, 1, 1, 1, 1, 1, 1, 1]\n",
    "B = [1, 2, 3]\n",
    "print(sort_three(A, B))\n",
    "\n",
    "# A is empty\n",
    "# expected: (0, 0, 0)\n",
    "# actual: (0, 0, 0)\n",
    "A = []\n",
    "B = [1, 2, 3]\n",
    "print(sort_three(A, B))"
   ]
  },
  {
   "cell_type": "markdown",
   "metadata": {},
   "source": [
    "## Given Exhaustive Test"
   ]
  },
  {
   "cell_type": "code",
   "execution_count": 180,
   "metadata": {},
   "outputs": [
    {
     "name": "stdout",
     "output_type": "stream",
     "text": [
      "Success\n"
     ]
    }
   ],
   "source": [
    "from random import choice\n",
    "def test_sort():\n",
    "    n=20\n",
    "    elements=[[0,1,2],[2,0,1],[2,1,0],['a','c','b']]\n",
    "    for e in elements:\n",
    "        a=[choice(e) for _ in range(n)]\n",
    "        (p0,p1,p2)=sort_three(a,e)\n",
    "        if not all([a[0:p0]==[e[0]]*p0,a[p0:p1]==[e[1]]*(p2-p0),a[p2:]==[e[2]]*(n-p2)]):\n",
    "            print(\"Failed on \", a, e)\n",
    "            print(sort_three(a, e))\n",
    "            print(p0,p1,p2)\n",
    "            return\n",
    "    print(\"Success\")\n",
    "    \n",
    "test_sort()"
   ]
  },
  {
   "cell_type": "markdown",
   "metadata": {},
   "source": [
    "## Runtime\n",
    "There is only a single loop in this, and it runs a total of $n$ times, from 0 to n-1.\n",
    "\n",
    "$\\sum\\limits_{i=0}^{n-1}1 = n$"
   ]
  },
  {
   "cell_type": "markdown",
   "metadata": {},
   "source": [
    "## Correctness\n",
    "This loop will never run more then n times.\n",
    "\n",
    "The variables `p0` and `p1` are initialized at 0. For each value in `array`:\n",
    "* If the value at index `i` is equal to the first element in `elements`, the values at index `i` and `p0` are swapped\n",
    "* `p0` is incremented.\n",
    "* If p0 is ever larger than p1, p1 is set to p0. (THIS IS THE FIX TO THE ISSUE I EMAILED YOU ABOUT!!!!)\n",
    "\n",
    "* If the value at index `i` is equal to the second element in `elements`, the values at index `i` and `p1` are swapped.\n",
    "* `p1` is incremented.\n",
    "\n",
    "Thus resulting in a sorted array in $n$ time.\n",
    "\n",
    "Then `p0`, `p1`, and `p1` are returned. "
   ]
  }
 ],
 "metadata": {
  "kernelspec": {
   "display_name": "Python 3 (ipykernel)",
   "language": "python",
   "name": "python3"
  },
  "language_info": {
   "codemirror_mode": {
    "name": "ipython",
    "version": 3
   },
   "file_extension": ".py",
   "mimetype": "text/x-python",
   "name": "python",
   "nbconvert_exporter": "python",
   "pygments_lexer": "ipython3",
   "version": "3.10.4"
  }
 },
 "nbformat": 4,
 "nbformat_minor": 4
}
