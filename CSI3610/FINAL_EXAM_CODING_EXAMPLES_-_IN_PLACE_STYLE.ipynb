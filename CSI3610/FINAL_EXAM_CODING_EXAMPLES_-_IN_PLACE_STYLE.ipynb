{
 "cells": [
  {
   "cell_type": "markdown",
   "id": "8f92aa34",
   "metadata": {},
   "source": [
    "HW-6 was an In-Place style sort. Think Dutch National Flag Problem, Red Blue White Ball Problem, etc\n",
    "\n",
    "Prof hints for coding will be as follows:\n",
    "\n",
    "-NO DP\n",
    "-Manipulating an Array\n",
    "-No additional Space\n",
    "-aka using in place sorting/manipulation\n",
    "-\"pay attention to anything I've ever said about arrays, problems involving arrays\"\n",
    "\n",
    "-We are given 2 test codes. 1 to help us understand what the problem is. Must past test 1 -> fix if it doesnt pass. -2nd is huge, we dont have the answer, just for the prof\n",
    "\n",
    "-obvious solution uses additional space, you would lose 5 points out of 40\n",
    "-we want to use pointers, etc (front, middle, end, ...) to do an in place sort that does not use additional space\n",
    "\n",
    "-examples:\n",
    "-Bubble Sort: n^2 - stable\n",
    "-Insertion Sort: n^2 - stable\n",
    "-Heap Sort: nlogn - not stable though...\n",
    "\n",
    "-Binary Search / Inseration Sort - nlogn - stable (HW-6)\n",
    "\n"
   ]
  },
  {
   "cell_type": "code",
   "execution_count": 32,
   "id": "9e012ea1",
   "metadata": {},
   "outputs": [],
   "source": [
    "def sort_three(array, elements):\n",
    "    \n",
    "    #use sort of binary sort?\n",
    "    \n",
    "    low = 0 #first element of array (front_buffer -> iterates +)\n",
    "    middle = 0 #middle of the array\n",
    "    high = len(array) - 1 #end of the array (end_buffer -> decrements -)\n",
    "    \n",
    "    i,j,k = 0,0,0 #initialize counters if needed\n",
    "    \n",
    "    \n",
    "    #we can only have linear runtime, so we must iterate only over n time\n",
    "    \n",
    "    while middle <= high: #note high is the end of the array, thus we will have max of O(n)\n",
    "        \n",
    "        \n",
    "        if array[middle] == elements[0]: #if first element to return\n",
    "        \n",
    "            array[low], array[middle] = array[middle], array[low]\n",
    "            \n",
    "            low += 1 #increment low\n",
    "            middle += 1 #increment middle (since middle cannot ever be less than low)\n",
    "            \n",
    "        \n",
    "        elif array[middle] == elements[1]: #if middle element to return\n",
    "        \n",
    "            middle += 1\n",
    "            \n",
    "            #no need to sort since we are in the middle already :D\n",
    "            #just move to next element increment middle\n",
    "        \n",
    "        \n",
    "        #if element is to be put at end of array\n",
    "        else: #we know then we are in: array[middle] == elements[2] (if last element to return)\n",
    "        \n",
    "            array[middle], array[high] = array[high], array[middle]\n",
    "            \n",
    "            #swap to end, then move end buffer high-1\n",
    "            \n",
    "            high = high - 1\n",
    "    \n",
    "    \n",
    "    print(array)\n",
    "    \n",
    "    p0, p1, p2  = low, middle, high+1 #note we decrement high each time since its the end buffer, so the final return we need to add 1 back\n",
    "    \n",
    "    return p0, p1, p2\n"
   ]
  },
  {
   "cell_type": "code",
   "execution_count": 33,
   "id": "4053f4c5",
   "metadata": {},
   "outputs": [
    {
     "name": "stdout",
     "output_type": "stream",
     "text": [
      "[0, 0, 0, 1, 1, 1, 1, 2, 2]\n"
     ]
    },
    {
     "data": {
      "text/plain": [
       "(3, 7, 7)"
      ]
     },
     "execution_count": 33,
     "metadata": {},
     "output_type": "execute_result"
    }
   ],
   "source": [
    "sort_three([0,1,2,1,1,2,1,0,0], [0,1,2])"
   ]
  },
  {
   "cell_type": "code",
   "execution_count": null,
   "id": "618b5a57",
   "metadata": {},
   "outputs": [],
   "source": []
  },
  {
   "cell_type": "code",
   "execution_count": 71,
   "id": "f5af8e0d",
   "metadata": {},
   "outputs": [],
   "source": [
    "#reverse an array, in place:\n",
    "\n",
    "def reverse(arr):\n",
    "    \n",
    "    front = 0\n",
    "    end = len(arr)-1\n",
    "    \n",
    "    while (front!=end):\n",
    "        \n",
    "        arr[front], arr[end] = arr[end], arr[front]\n",
    "        \n",
    "        front +=1\n",
    "        \n",
    "        end = end - 1\n",
    "        \n",
    "    return arr"
   ]
  },
  {
   "cell_type": "code",
   "execution_count": 72,
   "id": "0e224bb1",
   "metadata": {},
   "outputs": [
    {
     "data": {
      "text/plain": [
       "[5, 4, 3, 2, 1]"
      ]
     },
     "execution_count": 72,
     "metadata": {},
     "output_type": "execute_result"
    }
   ],
   "source": [
    "reverse([1,2,3,4,5])"
   ]
  },
  {
   "cell_type": "code",
   "execution_count": 101,
   "id": "c8e73c6b",
   "metadata": {},
   "outputs": [],
   "source": [
    "#sort then reverse, in place:\n",
    "\n",
    "def sortANDreverse(arr):\n",
    "    \n",
    "    qsort0(arr)\n",
    "    \n",
    "    print(arr, \"sorted\")\n",
    "    \n",
    "    reverse(arr)\n",
    "    \n",
    "    return arr\n",
    "\n",
    "\n",
    "\n",
    "#quicksort O(n)\n",
    "\n",
    "def partition(a,l,u):\n",
    "    t = a[l]\n",
    "    m=l\n",
    "    for i in range(l+1,u+1):\n",
    "        if a[i] < t:\n",
    "            m = m+1\n",
    "            a[i],a[m] = a[m],a[i]\n",
    "    a[m],a[l] = a[l],a[m]\n",
    "    return m\n",
    "\n",
    "def qsort0(a,l=0,u=None):\n",
    "    if u is None:\n",
    "        u = len(a)-1\n",
    "    if l < u:\n",
    "        m = partition(a,l,u)\n",
    "        qsort0(a,l,m-1)\n",
    "        qsort0(a,m+1,u)\n",
    "    return a\n"
   ]
  },
  {
   "cell_type": "code",
   "execution_count": 102,
   "id": "9493368c",
   "metadata": {},
   "outputs": [
    {
     "name": "stdout",
     "output_type": "stream",
     "text": [
      "[1, 2, 3, 4, 5] sorted\n"
     ]
    },
    {
     "data": {
      "text/plain": [
       "[5, 4, 3, 2, 1]"
      ]
     },
     "execution_count": 102,
     "metadata": {},
     "output_type": "execute_result"
    }
   ],
   "source": [
    "sortANDreverse([1,5,2,4,3])"
   ]
  },
  {
   "cell_type": "code",
   "execution_count": null,
   "id": "4817ad56",
   "metadata": {},
   "outputs": [],
   "source": []
  },
  {
   "cell_type": "code",
   "execution_count": null,
   "id": "1c019bff",
   "metadata": {},
   "outputs": [],
   "source": [
    "import heapq\n",
    "\n",
    "def minheap(array):\n",
    "\n",
    "    h = array\n",
    "    \n",
    "    value = heapq.heapify(h)\n",
    "    \n",
    "    print(h)\n",
    "    \n",
    "    return value"
   ]
  },
  {
   "cell_type": "code",
   "execution_count": 126,
   "id": "0380dec1",
   "metadata": {},
   "outputs": [
    {
     "name": "stdout",
     "output_type": "stream",
     "text": [
      "[3, 5, 6, 10, 18, 7]\n"
     ]
    }
   ],
   "source": [
    "minheap([18,5,7,10,3,6])"
   ]
  },
  {
   "cell_type": "code",
   "execution_count": null,
   "id": "6c2ca0f0",
   "metadata": {},
   "outputs": [],
   "source": []
  }
 ],
 "metadata": {
  "kernelspec": {
   "display_name": "Python 3 (ipykernel)",
   "language": "python",
   "name": "python3"
  },
  "language_info": {
   "codemirror_mode": {
    "name": "ipython",
    "version": 3
   },
   "file_extension": ".py",
   "mimetype": "text/x-python",
   "name": "python",
   "nbconvert_exporter": "python",
   "pygments_lexer": "ipython3",
   "version": "3.10.4"
  }
 },
 "nbformat": 4,
 "nbformat_minor": 5
}
