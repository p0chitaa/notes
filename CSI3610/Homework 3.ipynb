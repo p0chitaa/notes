{
 "cells": [
  {
   "cell_type": "markdown",
   "metadata": {},
   "source": [
    "# Homework 3\n",
    "Drew Bonde"
   ]
  },
  {
   "cell_type": "markdown",
   "metadata": {},
   "source": [
    "## Problem Statement\n",
    "Given an (unsorted) array of n integers and a positive integer k, return k el\u0002ements of the array that sum to zero, if there are such k elements. Otherwise return None.\n"
   ]
  },
  {
   "cell_type": "markdown",
   "metadata": {},
   "source": [
    "## My Approach\n",
    "In order to find `k` numbers in an array `a` that sum to zero, I wanted to find all possible combinations in `a` of length `k`. In order to do that, I initially decided to try to do this with iteration. After days of frustration and annoyance, I finally decided to try this recursively, much to my dismay lol.\n",
    "\n",
    "My approach will be a loop that starts at zero, and ends at n-1, i.e. `len(a)`. Before this loop I want to make an empty array to store the possible permutations. Inside that for loop, I want to make a for-each loop that calls the method with a[:i] + a[i+1] (aka `next`)(everything other than a[i]) and decrements k. This will be our base case (see lines 2-3). "
   ]
  },
  {
   "cell_type": "markdown",
   "metadata": {},
   "source": [
    "## The Code"
   ]
  },
  {
   "cell_type": "code",
   "execution_count": 136,
   "metadata": {},
   "outputs": [],
   "source": [
    "def combos(a, k):\n",
    "    if k<=0:\n",
    "        return [[]]\n",
    "    b = []\n",
    "    for i in range(0, len(a)):\n",
    "        current = a[i]\n",
    "        next = a[:i] + a[i+1:]\n",
    "        for x in combos(next, k-1):\n",
    "            b.append([current]+x)\n",
    "    return b\n",
    "\n",
    "def k_zero_sum(a, k):\n",
    "    if k == 0:\n",
    "        return None\n",
    "    b = combos(a, k)\n",
    "    for x in b:\n",
    "        if sum(x) == 0:\n",
    "            return x"
   ]
  },
  {
   "cell_type": "markdown",
   "metadata": {},
   "source": [
    "## Tests. \n",
    "First are some manual tests, then the given test from the professor. (Side note: I feel like your test is really exhaustive, so I'll test corner cases manually.)"
   ]
  },
  {
   "cell_type": "code",
   "execution_count": 155,
   "metadata": {},
   "outputs": [
    {
     "name": "stdout",
     "output_type": "stream",
     "text": [
      "None\n",
      "[3, -3]\n",
      "None\n",
      "None\n",
      "[0]\n",
      "None\n",
      "[-9, 6, 3]\n",
      "[-9, 6, 3]\n"
     ]
    }
   ],
   "source": [
    "# k is greater than the size of the array\n",
    "# expected = None\n",
    "# answer = None\n",
    "print(k_zero_sum([1, 2, 3], 4))\n",
    "\n",
    "# two possible answers, a = [3, -3, 1, -1]\n",
    "# expected = first combination with sum = 0: [3, -3]\n",
    "# answer = [3, -3]\n",
    "print(k_zero_sum([3, -3, 1, -1], 2))\n",
    "\n",
    "# no possible answer\n",
    "# expected = None\n",
    "# answer = None\n",
    "print(k_zero_sum([1, 2, 3, 4, 5, 6, 7, 8, 9, 100, -700], 3))\n",
    "\n",
    "# setting k to zero\n",
    "# expected = None\n",
    "# actual = None\n",
    "print(k_zero_sum([2, 1, 9], 0))\n",
    "\n",
    "# setting k to one when 0 exists in array\n",
    "# expected = [0]\n",
    "# actual = [0]\n",
    "print(k_zero_sum([2, 9, 3, 3, 0], 1))\n",
    "\n",
    "# setting k to one when 0 does not exist in array\n",
    "# expected = None\n",
    "# actual = None\n",
    "print(k_zero_sum([2, 4, -9, 8, 7], 1))\n",
    "\n",
    "# k = 3, a = [2, 17, -9, 6, 3]\n",
    "# expected = [-9, 6, 3]\n",
    "# actual = [-9, 6, 3]\n",
    "print(k_zero_sum([2, 17, -9, 6, 3], 3))\n",
    "\n",
    "# k = 3, a = [-9, 17, 6, 2, 3] -> reordered numbers from previous test\n",
    "# expected = [-9, 6, 3]\n",
    "# actual = [-9, 6, 3]\n",
    "print(k_zero_sum([-9, 17, 6, 2, 3], 3))"
   ]
  },
  {
   "cell_type": "code",
   "execution_count": 156,
   "metadata": {},
   "outputs": [],
   "source": [
    "from random import randint, shuffle\n",
    "def valid(a,k,b):\n",
    "    return all([len(b)==k]+[sum(b)==0]+[e in a for e in b])\n",
    "def test_k_zero_sum():\n",
    "    a,start,end = [],2,5\n",
    "    for k in range(start-1,end):\n",
    "        b = [randint(-100,100) for _ in range(k)]\n",
    "        b.append(-sum(b))\n",
    "        a = a+b\n",
    "    shuffle(a)\n",
    "    return all([valid(a,k,k_zero_sum(a,k)) for k in range(start,end+1)])"
   ]
  },
  {
   "cell_type": "code",
   "execution_count": 157,
   "metadata": {},
   "outputs": [
    {
     "name": "stdout",
     "output_type": "stream",
     "text": [
      "True\n"
     ]
    }
   ],
   "source": [
    "print(test_k_zero_sum())"
   ]
  },
  {
   "cell_type": "markdown",
   "metadata": {},
   "source": [
    "## Correctness\n",
    "In the first for loop, I made two variables. `current` which equals `a[i]`, and `next` which equals an array missing `a[i]`. Within the second for loop, I want to append onto b `current + `whatever returns for the recursive for loop (aka `x`). For example, if I have array `a` which equals [1, 2, 3, 4] and `k = 2`, in the first iteration of the FIRST for loop, `current = 1` and `next = [2, 3, 4]`. It then goes into the recursion, and calls its own method, `combos`, with the parameters `(next, k-1)`. Long story short, this boils down to the second for loop returning the values of the array other than a[i] in their own arrays. Inside this for loop, those values are appended onto `b`, and the loop runs again. So from our previous step, since current = 1, and next = [2, 3, 4], the first entries in `b` are [[1, 2], [1, 3], [1, 4]]. And the next ones will have `2` in the 0 index for each array in the list. So their entries will be `[2, 1], [2, 3], [2, 4]`. And so on and so forth."
   ]
  },
  {
   "cell_type": "markdown",
   "metadata": {},
   "source": [
    "## Runtime\n",
    "I'm absolutely terrible at calculating runtime, so I'm gonna try to explain this in my own words.\n",
    "\n",
    "So my `combos` function picks `k` numbers from `a` every possible way. Therefore I believe that method has $k*{n \\choose k}$ runtime.\n",
    "\n",
    "My `k_zero_sum` function only goes through the list of permutations, and checks the sum of each array in the list. I'm pretty sure its of length ${ n \\choose k}$, so it has runtime of ${ n \\choose k}$\n",
    "\n",
    "Therefore I think the total runtime is ${n \\choose k}+(k*{n \\choose k})$"
   ]
  }
 ],
 "metadata": {
  "kernelspec": {
   "display_name": "Python 3 (ipykernel)",
   "language": "python",
   "name": "python3"
  },
  "language_info": {
   "codemirror_mode": {
    "name": "ipython",
    "version": 3
   },
   "file_extension": ".py",
   "mimetype": "text/x-python",
   "name": "python",
   "nbconvert_exporter": "python",
   "pygments_lexer": "ipython3",
   "version": "3.10.4"
  }
 },
 "nbformat": 4,
 "nbformat_minor": 4
}
