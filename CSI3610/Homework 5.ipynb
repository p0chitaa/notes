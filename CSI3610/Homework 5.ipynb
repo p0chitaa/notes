{
 "cells": [
  {
   "cell_type": "markdown",
   "metadata": {},
   "source": [
    "# Homework 5\n",
    "Drew Bonde\n",
    "\n",
    "Note: I collaborated with some students from our class! Here are their names:\n",
    "* Matthew Taylor\n",
    "* Malika Khaira\n",
    "* Aaron Bryan\n",
    "* Sandy Jarkas\n",
    "* Khadeejah Hossain"
   ]
  },
  {
   "cell_type": "markdown",
   "metadata": {},
   "source": [
    "## Problem Statement\n",
    "Given an (unsorted) array of n elements where each element is of the form AAA#999#AA99#A9# where the A are characters in the range ’a’ to ’z’ and the 9 are characters in the range ’0’ to ’9’ and the # characters are from the set {@#$%&*}. Your task is to implement a sort of this array that will be as fast (asymptotically) as possible. (Much better than n log n)."
   ]
  },
  {
   "cell_type": "markdown",
   "metadata": {},
   "source": [
    "## My Approach\n",
    "During lecture, I tend to code alongside the notes, so as soon as I saw this homework assignment, I went straight to modifying the `binsort` method we wrote in class. I wanted to write a method that unpacks each array within the array `a`, and then converting each char to its ASCII value. Then I want to sort the array with binsort, change the ASCII values back to their letters, and pack them back together."
   ]
  },
  {
   "cell_type": "markdown",
   "metadata": {},
   "source": [
    "## The Code"
   ]
  },
  {
   "cell_type": "code",
   "execution_count": 7,
   "metadata": {},
   "outputs": [],
   "source": [
    "def fast_sort(a):\n",
    "    x = binsort(a)\n",
    "    y = chr_convert(x)\n",
    "    x = assemble(y)\n",
    "    return x\n",
    "\n",
    "def binsort(a):\n",
    "    bins = [convert(a)]\n",
    "    for l in range(len(a[0])-1, -1, -1):\n",
    "        binsTwo = [[] for _ in range(128)]\n",
    "        for bin in bins:\n",
    "            for e in bin:\n",
    "                binsTwo[e[l]].append(e)\n",
    "        bins = binsTwo\n",
    "    return [e for bin in bins for e in bin]\n",
    "\n",
    "\n",
    "def convert(a):\n",
    "    ordArray = []\n",
    "    asciiArr = [0]*len(a)\n",
    "    for j in range(0, len(a)):\n",
    "        random = [*a[j]]\n",
    "        for k in range(len(random)):\n",
    "            tempArr = []\n",
    "            tempArr = ord(random[k])\n",
    "            ordArray.append(tempArr)\n",
    "        asciiArr[j] = ordArray\n",
    "        ordArray = []\n",
    "    return asciiArr\n",
    "\n",
    "\n",
    "def chr_convert(a):\n",
    "    chrArray = []\n",
    "    arr = [0]*len(a)\n",
    "    for j in range(0, len(a)):\n",
    "        random = [*a[j]]\n",
    "        for k in range(len(random)):\n",
    "            tempArr = []\n",
    "            tempArr = chr(random[k])\n",
    "            chrArray.append(tempArr)\n",
    "        arr[j] = chrArray\n",
    "        chrArray = []\n",
    "    return arr\n",
    "    \n",
    "\n",
    "def assemble(a):\n",
    "    for i in range(len(a)):\n",
    "        a[i] = assemble_single(a[i])\n",
    "    return a\n",
    "            \n",
    "            \n",
    "def assemble_single(a):\n",
    "    word = \"\"\n",
    "    for i in range(len(a)):\n",
    "        word += a[i]\n",
    "    return word\n",
    "        "
   ]
  },
  {
   "cell_type": "markdown",
   "metadata": {},
   "source": [
    "## Some Simple Tests"
   ]
  },
  {
   "cell_type": "code",
   "execution_count": 13,
   "metadata": {},
   "outputs": [
    {
     "name": "stdout",
     "output_type": "stream",
     "text": [
      "True\n",
      "True\n"
     ]
    }
   ],
   "source": [
    "# repeating symbols\n",
    "# expected = True\n",
    "# actual = True\n",
    "a = ['###@@www999999mmmm', '###@@www999999mmmm']\n",
    "print(sorted(a) == fast_sort(a))\n",
    "\n",
    "# two different strings, in different orders\n",
    "# expected = True\n",
    "# actual = True\n",
    "a = 'asdfjkl1234567890@$%&*'\n",
    "b = '32l41kj098%65fdsa*&7$@'\n",
    "print(sorted(a) == fast_sort(b))"
   ]
  },
  {
   "cell_type": "markdown",
   "metadata": {},
   "source": [
    "## Given Test Method\n",
    "(I had to modify it just a tiny bit. I didn't test `a` itself, I sorted each array within `a`. See the two lines below `def test_fast_sort()`)"
   ]
  },
  {
   "cell_type": "code",
   "execution_count": 17,
   "metadata": {},
   "outputs": [
    {
     "name": "stdout",
     "output_type": "stream",
     "text": [
      "gyd730&to97#l7$\n",
      "siu440@hf99*j0*\n",
      "xta366*fy72%n7@\n",
      "Success\n"
     ]
    }
   ],
   "source": [
    "from random import choice\n",
    "import string\n",
    "def gen_key():\n",
    "    letters = string.ascii_lowercase\n",
    "    digits = string.digits\n",
    "    key=\"\"\n",
    "    for l in range(3,0,-1):\n",
    "        key+=''.join(choice(letters) for _ in range(l))\n",
    "        key+=''.join(choice(digits) for _ in range(l))\n",
    "        key+=''.join(choice(\"@#$%&*\"))\n",
    "    return key\n",
    "\n",
    "for _ in range(3):\n",
    "    print(gen_key())\n",
    "\n",
    "def test_fast_sort():\n",
    "    a = [gen_key() for _ in range(3000)]\n",
    "    if sorted(a) == fast_sort(a):\n",
    "        print(\"Success\")\n",
    "    else:\n",
    "        print(\"Failure\")\n",
    "\n",
    "test_fast_sort()"
   ]
  },
  {
   "cell_type": "markdown",
   "metadata": {},
   "source": [
    "## Runtime\n",
    "As proved in class, this has runtime of $kn$, where $k$ is the number of possible elements, and $n$ is the length of `a`.\n",
    "\n",
    "###### However since I did not feel like making a separate key, k is techincally 128 instead of 42, the total number of possible symbols in our array."
   ]
  },
  {
   "cell_type": "markdown",
   "metadata": {},
   "source": [
    "## Correctness\n",
    "I wrote a total of 6 methods. \n",
    "* `convert` grabs every array within the array `a`, unpacks it, and converts every char to it's ASCII value. \n",
    "* `chr_convert` does literally the same exact thing as `convert`, however instead of changing the chars to their `ord` value, it changes them to their `chr` value, aka back to the letters. \n",
    "* `assemble_single` looks at an array of chars, has an empty string, and loops through the array of chars, adding each char to the empty string, and returning it at the end.\n",
    "* `assemble` just uses `assemble_single` for each element in a passed array, therefore converting broken chars into their full string\n",
    "* `binsort` is the binsort we wrote in class, with the exception of the range of `binsTwo`, being switched to 128, as that is the largest ASCII value of the given possible symbols and converting the passed array to its ASCII values\n",
    "* `fast_sort` uses everything in order. It first uses `binsort` on a, then `chr_convert`, and then finally `assemble`."
   ]
  },
  {
   "cell_type": "code",
   "execution_count": null,
   "metadata": {},
   "outputs": [],
   "source": []
  }
 ],
 "metadata": {
  "kernelspec": {
   "display_name": "Python 3 (ipykernel)",
   "language": "python",
   "name": "python3"
  },
  "language_info": {
   "codemirror_mode": {
    "name": "ipython",
    "version": 3
   },
   "file_extension": ".py",
   "mimetype": "text/x-python",
   "name": "python",
   "nbconvert_exporter": "python",
   "pygments_lexer": "ipython3",
   "version": "3.10.4"
  }
 },
 "nbformat": 4,
 "nbformat_minor": 4
}
