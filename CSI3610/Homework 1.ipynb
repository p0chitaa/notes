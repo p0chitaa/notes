{
  "metadata": {
    "language_info": {
      "codemirror_mode": {
        "name": "python",
        "version": 3
      },
      "file_extension": ".py",
      "mimetype": "text/x-python",
      "name": "python",
      "nbconvert_exporter": "python",
      "pygments_lexer": "ipython3",
      "version": "3.8"
    },
    "kernelspec": {
      "name": "python",
      "display_name": "Python (Pyodide)",
      "language": "python"
    }
  },
  "nbformat_minor": 4,
  "nbformat": 4,
  "cells": [
    {
      "cell_type": "markdown",
      "source": "# Homework 1\n#### Drew Bonde",
      "metadata": {}
    },
    {
      "cell_type": "markdown",
      "source": "## Problem Statement\nYou are asked to construct a mathematical function. The integer root function: iroot(k, n) returns the largest integer x such that xk does not exceed n, assuming k and n are both positive integers. (Of course, you must remain in the integer realm all the time; you are not allowed to simply call a floating point library and do floor(sqrt(k,n)).) You are allowed only the four basic arithmetic operations (addition, subtraction, multiplication, division). Specifically you cannot use exponentiation (the operator **), let alone calling math.pow(). No library calls are allowed.",
      "metadata": {}
    },
    {
      "cell_type": "markdown",
      "source": "## My approach",
      "metadata": {}
    },
    {
      "cell_type": "markdown",
      "source": "My approach will be two loops, a `while` loop that increments the possible root variable, `x`, and resets the `result` variable, and a `for` loop that multiplies `result` by `x` `k` times.",
      "metadata": {}
    },
    {
      "cell_type": "markdown",
      "source": "## The Code",
      "metadata": {}
    },
    {
      "cell_type": "code",
      "source": "def iroot(k, n):\n    x=0\n    result=1\n    \n    while(result<=n):\n        x+=1\n        result=1\n        for i in range(k):\n            result*=x\n    return x-1",
      "metadata": {
        "trusted": true
      },
      "execution_count": 58,
      "outputs": []
    },
    {
      "cell_type": "markdown",
      "source": "## Some Tests\nThese should print out 2, 3, 4, 5, 5, 9, and 10. (I have no idea how to automate tests on Jupyter Notebook so these are manual.)",
      "metadata": {}
    },
    {
      "cell_type": "code",
      "source": "print(iroot(2, 4))\nprint(iroot(3, 27))\nprint(iroot(3, 124))\nprint(iroot(3, 125))\nprint(iroot(3, 126))\nprint(iroot(2, 81))\nprint(iroot(2, 100))",
      "metadata": {
        "trusted": true
      },
      "execution_count": 59,
      "outputs": [
        {
          "name": "stdout",
          "text": "2\n3\n4\n5\n5\n9\n10\n",
          "output_type": "stream"
        }
      ]
    },
    {
      "cell_type": "markdown",
      "source": "## Correctness\nFirstly, the while loop terminates only if `result` is greater than `n`. Each time the while loop is executed `x` is incremented by one and `result` is reset back to 1. Under those two lines is the for loop.\n\nThe for loop is finite. It starts at 0 and ends at k-1, hence it executes exactly k times. The variable `result` starts at 1 each time the for loop is executed and is multiplied by `x` at each iteration. Hence, at the end it is equal to `x`<sup>k</sup>.",
      "metadata": {}
    },
    {
      "cell_type": "markdown",
      "source": "## Runtime\nFor loop: $\\sum \\limits _{i=0} ^{k-1}1 = k-1+1 = k$\n\nWhile loop has runtime O(n).\n\nTogether, the total runtime = O(nk).",
      "metadata": {}
    }
  ]
}