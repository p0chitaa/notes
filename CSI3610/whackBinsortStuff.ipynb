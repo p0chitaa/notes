{
 "cells": [
  {
   "cell_type": "code",
   "execution_count": 308,
   "id": "5f3a7d05",
   "metadata": {},
   "outputs": [],
   "source": [
    "def fast_sort(a):\n",
    "    x = binsort(a)\n",
    "    y = chr_convert(x)\n",
    "    x = assemble(y)\n",
    "    return x\n",
    "\n",
    "def binsort(a):\n",
    "    bins = [convert(a)]\n",
    "    for l in range(len(a[0])-1, -1, -1):\n",
    "        binsTwo = [[] for _ in range(128)]\n",
    "        for bin in bins:\n",
    "            for e in bin:\n",
    "                binsTwo[e[l]].append(e)\n",
    "        bins = binsTwo\n",
    "    return [e for bin in bins for e in bin]\n",
    "\n",
    "\n",
    "def convert(a):\n",
    "    ordArray = []\n",
    "    asciiArr = [0]*len(a)\n",
    "    for j in range(0, len(a)):\n",
    "        random = [*a[j]]\n",
    "        for k in range(len(random)):\n",
    "            tempArr = []\n",
    "            tempArr = ord(random[k])\n",
    "            ordArray.append(tempArr)\n",
    "        asciiArr[j] = ordArray\n",
    "        ordArray = []\n",
    "    return asciiArr\n",
    "\n",
    "\n",
    "def chr_convert(a):\n",
    "    chrArray = []\n",
    "    arr = [0]*len(a)\n",
    "    for j in range(0, len(a)):\n",
    "        random = [*a[j]]\n",
    "        for k in range(len(random)):\n",
    "            tempArr = []\n",
    "            tempArr = chr(random[k])\n",
    "            chrArray.append(tempArr)\n",
    "        arr[j] = chrArray\n",
    "        chrArray = []\n",
    "    return arr\n",
    "    \n",
    "\n",
    "def assemble(a):\n",
    "    for i in range(len(a)):\n",
    "        a[i] = assemble_single(a[i])\n",
    "    return a\n",
    "            \n",
    "            \n",
    "def assemble_single(a):\n",
    "    word = \"\"\n",
    "    for i in range(len(a)):\n",
    "        word += a[i]\n",
    "    return word\n",
    "        "
   ]
  },
  {
   "cell_type": "code",
   "execution_count": 310,
   "id": "90a68ef3",
   "metadata": {},
   "outputs": [
    {
     "name": "stdout",
     "output_type": "stream",
     "text": [
      "o2$m7$s1*\n",
      "a7$r4&p3#\n",
      "f7#i1#g1$\n",
      "Success\n"
     ]
    }
   ],
   "source": [
    "from random import choice\n",
    "import string\n",
    "def gen_key():\n",
    "    letters = string.ascii_lowercase\n",
    "    digits = string.digits\n",
    "    key = \"\"\n",
    "    for l in range(3, 0, -1):\n",
    "        key+=''.join(choice(letters) for _ in range(1))\n",
    "        key+=''.join(choice(digits) for _ in range(1))\n",
    "        key+=''.join(choice(\"@#$%&*\"))\n",
    "    return key\n",
    "\n",
    "for _ in range(3):\n",
    "    print(gen_key())\n",
    "    \n",
    "def test_fast_sort():\n",
    "    a = [gen_key() for _ in range(3000)]\n",
    "    if sorted(a) == fast_sort(a):\n",
    "        print(\"Success\")\n",
    "    else:\n",
    "        print(\"Failure\")\n",
    "test_fast_sort()"
   ]
  },
  {
   "cell_type": "code",
   "execution_count": null,
   "id": "7b94ad24",
   "metadata": {},
   "outputs": [],
   "source": []
  },
  {
   "cell_type": "code",
   "execution_count": null,
   "id": "d7bcb748",
   "metadata": {},
   "outputs": [],
   "source": []
  },
  {
   "cell_type": "code",
   "execution_count": null,
   "id": "5e9bdf6d",
   "metadata": {},
   "outputs": [],
   "source": []
  },
  {
   "cell_type": "code",
   "execution_count": null,
   "id": "1be8cb9c",
   "metadata": {},
   "outputs": [],
   "source": []
  }
 ],
 "metadata": {
  "kernelspec": {
   "display_name": "Python 3 (ipykernel)",
   "language": "python",
   "name": "python3"
  },
  "language_info": {
   "codemirror_mode": {
    "name": "ipython",
    "version": 3
   },
   "file_extension": ".py",
   "mimetype": "text/x-python",
   "name": "python",
   "nbconvert_exporter": "python",
   "pygments_lexer": "ipython3",
   "version": "3.10.4"
  }
 },
 "nbformat": 4,
 "nbformat_minor": 5
}
