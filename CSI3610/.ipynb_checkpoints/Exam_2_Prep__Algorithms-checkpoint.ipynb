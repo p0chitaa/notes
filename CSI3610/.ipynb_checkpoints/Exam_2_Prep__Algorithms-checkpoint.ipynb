{
 "cells": [
  {
   "cell_type": "markdown",
   "id": "49b5512a",
   "metadata": {},
   "source": [
    "Quick&Heap Sort Stuff)\n",
    "\n",
    "Why does Quicksort switch to insertion sort?\n",
    "\n",
    "What happens if the partition is 90 - 10?\n",
    "\n",
    "Which pivot choice is used by Bentley and McIIlroy?\n",
    "\n",
    "Why would you not used a random pivot?\n",
    "\n",
    "What if there are multiple repeated elements? (Better partition?) Heapsort and Quicksort are both n log n. \n",
    "Tradeoes?\n",
    "\n",
    "Why would one try an iterative implementation of either?\n",
    "\n",
    "Which sort would be easier to implement in parallel?\n",
    "\n",
    "\n",
    "\n",
    "Sorting Theory & Broken Limits)\n",
    "\n",
    "What does it mean for a sort to be stable?\n",
    "\n",
    "    Stable sorting maintains the order of the two equal balls numbered 8, whereas unstable sorting may invert the relative order of the two 8s.\n",
    "\n",
    "    In simplier terms, if there is an array that has multiple 8s, a stable sort would maintain that the 1st \"8\" always remains before the 2nd \"8\", the 2nd \"8\" after the 1st and before the 3rd, etc.\n",
    "\n",
    "\n",
    "If we could find the median of an array in O(n), could we improve quicksort runtime?\n",
    "\n",
    "Can we make all sorting algorithms seen previously stable?\n",
    "\n",
    "\n",
    "\n",
    "Unweighted Graph Stuff)\n",
    "\n",
    "State an efficient algorithm to find the diameter of a graph, the length of the largest shortest path in the graph. (No coding required; bird-s eye view sufficient.)\n",
    "\n",
    "Trace the Topsort algorithm by displaying the successive changes to the stack variable as it executes the call on Slide 45.\n",
    "\n",
    "\n",
    "Is the DFS of a graph unique if you fix the root? Is the BFS of a graph unique if you fix the root? Is the number of edges in a DFS fixed?\n",
    "\n",
    "\n",
    "\n",
    "Weighted Graph Stuff)\n",
    "\n",
    "\n",
    "Can you name (describe) an algorithm illustrating each of the above techniques?\n",
    "\n",
    "Can we find the maximum weight spanning tree by reversing the weights and running Kruskal?\n",
    "\n",
    "Can we find the tree of longuest paths by reversing the weights and running Bellman-Ford?\n",
    "\n",
    "Is the minimum spanning tree unique if the edge weights are distinct?\n",
    "\n",
    "If you multiply all edge weights by some factor, is the tree of shortest path the same?\n",
    "\n",
    "If a graph has negative cycles, does it imply that no pair of nodes have a finite cost shortest path?\n",
    "\n",
    "\n",
    "Animal Zoo Complexity P NP Stuff)\n",
    "\n",
    "What would you conclude if I proved that TSP is in P?\n",
    "\n",
    "What would you conclude if I proved that TSP is not in P?\n",
    "\n",
    "\n",
    "\n",
    "\n",
    "\n"
   ]
  },
  {
   "cell_type": "code",
   "execution_count": null,
   "id": "edbe935a",
   "metadata": {},
   "outputs": [],
   "source": []
  },
  {
   "cell_type": "markdown",
   "id": "5bb1bfd5",
   "metadata": {},
   "source": [
    "Algorithms We Learned + Implemented:\n",
    "\n"
   ]
  },
  {
   "cell_type": "code",
   "execution_count": 1,
   "id": "76f7a179",
   "metadata": {},
   "outputs": [],
   "source": [
    "def bs(a=[]): #bubble sort\n",
    "    n = len(a)\n",
    "    for i in range(n-1):\n",
    "        for j in range(i+1,n):\n",
    "            if a[i] > a[j]:\n",
    "                a[i],a[j] = a[j],a[i]\n",
    "    return a"
   ]
  },
  {
   "cell_type": "code",
   "execution_count": 2,
   "id": "0fd0bc64",
   "metadata": {},
   "outputs": [
    {
     "data": {
      "text/plain": [
       "[1, 2, 6, 7, 7, 9, 12]"
      ]
     },
     "execution_count": 2,
     "metadata": {},
     "output_type": "execute_result"
    }
   ],
   "source": [
    "bs([9,2,6,1,7,12,7])"
   ]
  },
  {
   "cell_type": "code",
   "execution_count": 3,
   "id": "584ae06b",
   "metadata": {},
   "outputs": [],
   "source": [
    "def isort(a): #insertion sort\n",
    "    for i in range(1,len(a)):\n",
    "        currentvalue = a[i]\n",
    "        position = i\n",
    "        \n",
    "        while position>0 and a[position-1]>currentvalue:\n",
    "            a[position] = a[position-1]\n",
    "            position = position-1\n",
    "                \n",
    "        a[position] = currentvalue\n",
    "    \n",
    "    return a"
   ]
  },
  {
   "cell_type": "code",
   "execution_count": 4,
   "id": "9f71a12c",
   "metadata": {},
   "outputs": [
    {
     "data": {
      "text/plain": [
       "[-99, 0, 1, 1, 2, 2, 6, 7, 7, 8, 8, 9, 72]"
      ]
     },
     "execution_count": 4,
     "metadata": {},
     "output_type": "execute_result"
    }
   ],
   "source": [
    "isort([8,6,1,7,1,7,9,2,8,0,2,72,-99])"
   ]
  },
  {
   "cell_type": "code",
   "execution_count": 1,
   "id": "0702290d",
   "metadata": {},
   "outputs": [],
   "source": [
    "def merge(a,b):\n",
    "    ia,ib,ic,na,nb = 0,0,0,len(a),len(b)\n",
    "    nc = na+nb\n",
    "    c=[0]*nc\n",
    "    while (ic < nc):\n",
    "        if (ia < na):\n",
    "            if (ib < nb):\n",
    "                if (a[ia] < b[ib]):\n",
    "                    c[ic],ic,ia = a[ia],ic+1,ia+1\n",
    "                else:\n",
    "                    c[ic],ic,ib = b[ib],ic+1,ib+1\n",
    "            else:\n",
    "                c[ic],ic,ia = a[ia],ic+1,ia+1\n",
    "        else:\n",
    "            c[ic],ic,ib = b[ib],ic+1,ib+1\n",
    "    return c\n",
    "\n",
    "\n",
    "def msort(a): #merge sort using merge function\n",
    "    n = len(a)\n",
    "    m = n//2\n",
    "    if n <= 1:\n",
    "        return a\n",
    "    else:\n",
    "        return merge(msort(a[0:m]), msort(a[m:]))\n",
    "\n",
    "#print([msort([])==[],\n",
    "#       msort([4])==[4],\n",
    "#       msort([1,3,3,2,3,1])==[1,1,2,3,3,3],\n",
    "#       msort([10,9,8,7,6,5,4,3,2,1]) == [1,2,3,4,5,6,7,8,9,10]])\n",
    "#[True, True, True, True]"
   ]
  },
  {
   "cell_type": "code",
   "execution_count": 9,
   "id": "2e218b1e",
   "metadata": {},
   "outputs": [
    {
     "data": {
      "text/plain": [
       "[-12, -1, 1, 2, 6, 6, 7, 8, 12]"
      ]
     },
     "execution_count": 9,
     "metadata": {},
     "output_type": "execute_result"
    }
   ],
   "source": [
    "msort([6,8,12,7,-12,2,-1,6,1])"
   ]
  },
  {
   "cell_type": "code",
   "execution_count": 2,
   "id": "1bda47e7",
   "metadata": {},
   "outputs": [],
   "source": [
    "#heapsort\n",
    "\n",
    "def newheap(n):\n",
    "    return [0]*(n+1)\n",
    "def insert(a,e):\n",
    "    # Inserting element e into min-heap a\n",
    "    a[0] = a[0] + 1\n",
    "    a[a[0]] = e\n",
    "    heapfixup(a,a[0])\n",
    "    \n",
    "def heapfixup(a,i):\n",
    "    while i > 1:\n",
    "        p = i // 2\n",
    "        if a[p] > a[i]:\n",
    "            a[p],a[i] = a[i],a[p]        \n",
    "            i=p \n",
    "        else:\n",
    "            return\n",
    "        \n",
    "def extractsmallest(a):\n",
    "    e,a[1],a[0] = a[1],a[a[0]],a[0]-1\n",
    "    heapfixdown(a,1)\n",
    "    a[a[0]+1]=0\n",
    "    return e\n",
    "\n",
    "def heapfixdown(a,i):\n",
    "    while 2*i <= a[0]:\n",
    "        c = 2*i\n",
    "        if c+1 <= a[0]:\n",
    "            if a[c+1] < a[c]:\n",
    "                c = c+1\n",
    "        if a[i] > a[c]:\n",
    "            a[i],a[c] = a[c],a[i] \n",
    "            i=c\n",
    "        else:\n",
    "            return\n",
    "\n",
    "def heapsort(x):\n",
    "    n = len(x)\n",
    "    a = newheap(n)\n",
    "    for i in range(n):\n",
    "        insert(a,x[i])\n",
    "    for i in range(n):\n",
    "        x[i] = extractsmallest(a)\n",
    "    return x\n"
   ]
  },
  {
   "cell_type": "code",
   "execution_count": null,
   "id": "000c844e",
   "metadata": {},
   "outputs": [],
   "source": []
  },
  {
   "cell_type": "code",
   "execution_count": 7,
   "id": "d01452e7",
   "metadata": {},
   "outputs": [],
   "source": [
    "#quicksort O(n)\n",
    "\n",
    "def partition(a,l,u):\n",
    "    t = a[l]\n",
    "    m=l\n",
    "    for i in range(l+1,u+1):\n",
    "        if a[i] < t:\n",
    "            m = m+1\n",
    "            a[i],a[m] = a[m],a[i]\n",
    "    a[m],a[l] = a[l],a[m]\n",
    "    return m\n",
    "\n",
    "def qsort0(a,l=0,u=None):\n",
    "    if u is None:\n",
    "        u = len(a)-1\n",
    "    if l < u:\n",
    "        m = partition(a,l,u)\n",
    "        qsort0(a,l,m-1)\n",
    "        qsort0(a,m+1,u)\n",
    "    return a\n",
    "\n",
    "\n",
    "#quicksort with insertion sort example?:\n",
    "def qsort1(a,l=0,u=None):\n",
    "    if u is None:\n",
    "        u = len(a)-1\n",
    "    if (l < u-128):\n",
    "        m = partition(a,l,u)\n",
    "        qsort1(a,l,m-1)\n",
    "        qsort1(a,m+1,u)\n",
    "    else:\n",
    "        insertion_sort(a,l,u)\n",
    "    return a\n"
   ]
  },
  {
   "cell_type": "code",
   "execution_count": null,
   "id": "3e9026a6",
   "metadata": {},
   "outputs": [],
   "source": []
  },
  {
   "cell_type": "code",
   "execution_count": 8,
   "id": "6f026a89",
   "metadata": {},
   "outputs": [],
   "source": [
    "#binsort\n",
    "\n",
    "def binsort(a):\n",
    "    bins = [a]\n",
    "    for l in range(len(a[0])-1,-1,-1):\n",
    "        binsTwo = [[] for _ in range(10)]\n",
    "        for bin in bins:\n",
    "            for e in bin:\n",
    "                binsTwo[e[l]].append(e)\n",
    "        bins = binsTwo\n",
    "    return [e for bin in bins for e in bin]"
   ]
  },
  {
   "cell_type": "code",
   "execution_count": 9,
   "id": "373c7ccd",
   "metadata": {},
   "outputs": [
    {
     "data": {
      "text/plain": [
       "[[2, 0, 1, 4, 1, 1, 0, 5],\n",
       " [2, 0, 1, 4, 1, 1, 0, 6],\n",
       " [2, 0, 1, 5, 0, 1, 1, 1],\n",
       " [2, 0, 1, 5, 1, 2, 1, 0]]"
      ]
     },
     "execution_count": 9,
     "metadata": {},
     "output_type": "execute_result"
    }
   ],
   "source": [
    "a=[[2,0,1,5,0,1,1,1],[2,0,1,5,1,2,1,0],\n",
    "   [2,0,1,4,1,1,0,6],[2,0,1,4,1,1,0,5]]\n",
    "binsort(a)"
   ]
  },
  {
   "cell_type": "code",
   "execution_count": 13,
   "id": "d7d00463",
   "metadata": {},
   "outputs": [],
   "source": [
    "#find min and max of an array\n",
    "def minandmax(a):\n",
    "    min = max = a[0]\n",
    "    for i in range(1,len(a)):\n",
    "        if a[i] < min:\n",
    "            min = a[i]\n",
    "        elif a[i] > max:\n",
    "            max = a[i]\n",
    "    return min,max\n",
    "\n",
    "#minandmax with better 3n/2 runtime:\n",
    "def minandmax2(a):\n",
    "    min, max = a[0],a[1] if a[0] < a[1] else a[1],a[0]\n",
    "    for i in range(2,len(a),2):\n",
    "        if a[i] < a[i+1]:\n",
    "            if a[i] < min:\n",
    "                min = a[i]\n",
    "            if a[i+1] > max:\n",
    "                max = a[i+1]\n",
    "        else:\n",
    "            if a[i+1] < min:\n",
    "                min = a[i+1]\n",
    "            if a[i] > max:\n",
    "                max = a[i]\n",
    "    return min,max\n",
    "\n"
   ]
  },
  {
   "cell_type": "code",
   "execution_count": 14,
   "id": "3bc5fed9",
   "metadata": {},
   "outputs": [
    {
     "data": {
      "text/plain": [
       "(0, 5)"
      ]
     },
     "execution_count": 14,
     "metadata": {},
     "output_type": "execute_result"
    }
   ],
   "source": [
    "a=[2,0,1,5,0,1,1,1]\n",
    "minandmax(a)"
   ]
  },
  {
   "cell_type": "code",
   "execution_count": null,
   "id": "9a6ab11b",
   "metadata": {},
   "outputs": [],
   "source": []
  },
  {
   "cell_type": "code",
   "execution_count": null,
   "id": "7812dd09",
   "metadata": {},
   "outputs": [],
   "source": []
  },
  {
   "cell_type": "code",
   "execution_count": null,
   "id": "3dcfd550",
   "metadata": {},
   "outputs": [],
   "source": []
  },
  {
   "cell_type": "code",
   "execution_count": 59,
   "id": "2734b8e6",
   "metadata": {},
   "outputs": [
    {
     "name": "stdout",
     "output_type": "stream",
     "text": [
      "{0: set(), 1: set(), 2: set(), 3: set()}\n",
      "{0: set(), 1: {2, 3}, 2: set(), 3: set()}\n",
      "{0: set(), 1: {2, 3}, 2: {3}, 3: set()}\n",
      "Nodes\n",
      "[0, 1, 2, 3]\n",
      "Neighbors\n",
      "{2, 3}\n",
      "Edges\n",
      "[(1, 2), (1, 3), (2, 3)]\n"
     ]
    },
    {
     "data": {
      "text/plain": [
       "(None, None)"
      ]
     },
     "execution_count": 59,
     "metadata": {},
     "output_type": "execute_result"
    }
   ],
   "source": [
    "#simple minded approach for unweighted graph (hash table indexed by nodes, each entry points to a list of neighbors)\n",
    "\n",
    "def new_graph():\n",
    "    return {}\n",
    "def add_nodes(G,nodes):\n",
    "    for node in nodes:\n",
    "        G[node]=set()\n",
    "    return G\n",
    "def add_neighbours(G,node,neighbours):\n",
    "    for v in neighbours:\n",
    "        G[node].add(v)\n",
    "        \n",
    "        \n",
    "        \n",
    "        \n",
    "def neighbours(G,v):\n",
    "    return G[v]\n",
    "def nodes(G):\n",
    "    return list(G)\n",
    "def edges(G):\n",
    "    all=[]\n",
    "    for u in nodes(G):\n",
    "        for v in neighbours(G,u):\n",
    "            all.append((u,v))\n",
    "    return all\n",
    "        \n",
    "G = new_graph()\n",
    "add_nodes(G,[0,1,2,3])\n",
    "print(G)\n",
    "add_neighbours(G,1,[2,3])\n",
    "print(G)\n",
    "add_neighbours(G,2,[3])\n",
    "print(G)\n",
    "\n",
    "print(\"Nodes\"), print(nodes(G))\n",
    "print(\"Neighbors\"), print(neighbours(G,1))\n",
    "print(\"Edges\"), print(edges(G))"
   ]
  },
  {
   "cell_type": "code",
   "execution_count": 60,
   "id": "0eee59d8",
   "metadata": {},
   "outputs": [
    {
     "name": "stdout",
     "output_type": "stream",
     "text": [
      "[101, 104, 204]\n",
      "[104, 204]\n"
     ]
    }
   ],
   "source": [
    "#implement a queue\n",
    "def new_queue():\n",
    "    return []\n",
    "def empty_queue(q):\n",
    "    return len(q)==0\n",
    "def enqueue(q,e):\n",
    "    return q.append(e)\n",
    "def dequeue(q):\n",
    "    return q.pop(0)\n",
    "\n",
    "q=[]\n",
    "enqueue(q,101)\n",
    "enqueue(q,104)\n",
    "enqueue(q,204)\n",
    "print(q)\n",
    "dequeue(q)\n",
    "print(q)\n"
   ]
  },
  {
   "cell_type": "code",
   "execution_count": 62,
   "id": "e1002ce1",
   "metadata": {},
   "outputs": [
    {
     "name": "stdout",
     "output_type": "stream",
     "text": [
      "1\n",
      "2\n",
      "3\n",
      "4\n",
      "5\n"
     ]
    }
   ],
   "source": [
    "#BFS breadth first search\n",
    "#visit neighbors first, then neighbors of each neighbor...\n",
    "\n",
    "def bfs(G,r,visited=None,process=None): #Gisagraph. risanodeofthisgraph. \n",
    "    q=new_queue()\n",
    "    if visited is None:\n",
    "        visited = [False]*len(nodes(G))\n",
    "    enqueue(q,r)\n",
    "    visited[r] = True\n",
    "    while not empty_queue(q):\n",
    "        v = dequeue(q)\n",
    "        if process is not None:\n",
    "            process(v)\n",
    "        for u in neighbours(G,v):\n",
    "            if not visited[u]:\n",
    "                enqueue(q,u)\n",
    "                visited[u] = True\n",
    "                \n",
    "                \n",
    "G={0:set([1,2,3]), 1:set([2,3]), 2:set([3,4,5]),\n",
    "   3:set([4,5]), 4:set([5]), 5:set()}\n",
    "bfs(G,1,process=print)\n"
   ]
  },
  {
   "cell_type": "code",
   "execution_count": 63,
   "id": "5e52dcc0",
   "metadata": {},
   "outputs": [
    {
     "name": "stdout",
     "output_type": "stream",
     "text": [
      "components  1\n",
      "components  2\n",
      "components  3\n"
     ]
    }
   ],
   "source": [
    "#one application of BFS find connected components\n",
    "\n",
    "def components(G):\n",
    "    count = 0\n",
    "    visited = [False]*len(nodes(G))\n",
    "    for v in nodes(G):\n",
    "        if not visited[v]:\n",
    "            count = count + 1\n",
    "            bfs(G,v,visited)\n",
    "    return count\n",
    "\n",
    "G={0:set([1,2,3]), 1:set([2,3]), 2:set([3,4,5]),\n",
    "   3:set([4,5]), 4:set([5]), 5:set()}\n",
    "print('components ', components(G))\n",
    "G={0:set([1,2,3]), 1:set([2,3]), 2:set([3,4,5]),\n",
    "   3:set([4,5]), 4:set([5]), 5:set(),\n",
    "   6:set([7,8]),7:set(), 8:set()}\n",
    "print('components ', components(G))\n",
    "\n",
    "#make 3 seperate sets = 3 components\n",
    "G={0:set([1,2,3]), 1:set([2,3]), 2:set([3,4,5]),\n",
    "   3:set([4,5]), 4:set([5]), 5:set(),\n",
    "   6:set([7,8]),7:set(), 8:set(), 9:set([9,10,11]), 10:set([12,13]), 11:set(),12:set(),13:set()}\n",
    "print('components ', components(G))\n"
   ]
  },
  {
   "cell_type": "code",
   "execution_count": 64,
   "id": "f7a92072",
   "metadata": {},
   "outputs": [],
   "source": [
    "#another application of BFS, is graph bipartite\n",
    "\n",
    "def bipartite(G):\n",
    "    for v in vertices(G):\n",
    "        if not visited[v]:\n",
    "            colour[v] = red\n",
    "            BFS(G,v)\n",
    "\n",
    "def process(x,y):\n",
    "    if colour[x] == colour[y]:\n",
    "        abort('Not bipartite')\n",
    "    else:\n",
    "        colour[y] = complement(colour[x])\n",
    "        \n",
    "        \n",
    "def bfs(G,r,process=None): #fake code\n",
    "    enqueue(r)\n",
    "    visited[r] = True\n",
    "    \n",
    "    while v == dequeue():\n",
    "        for u in neighbors(G,v):\n",
    "            if process:\n",
    "                process(v,u)\n",
    "            if not visited[u]:\n",
    "                enqueue(u)\n",
    "                visited[u] = True"
   ]
  },
  {
   "cell_type": "code",
   "execution_count": 65,
   "id": "531d9a5c",
   "metadata": {},
   "outputs": [
    {
     "name": "stdout",
     "output_type": "stream",
     "text": [
      "{3: [1, 2], 1: [2], 2: []}  ->  [3, 1, 2]\n"
     ]
    }
   ],
   "source": [
    "def topsort(G):\n",
    "    stack=[]\n",
    "    visited=[0]*(len(nodes(G))+1)\n",
    "    for v in nodes(G):\n",
    "        if visited[v]==0:\n",
    "            if visit(G,v,stack,visited)==False:\n",
    "                return None\n",
    "    return stack\n",
    "\n",
    "def visit(G,r,stack,visited):\n",
    "    if visited[r]==2:\n",
    "        return True\n",
    "    elif visited[r]==1:\n",
    "        return False\n",
    "    visited[r]=1\n",
    "    for v in neighbours(G,r):\n",
    "        if visit(G,v,stack,visited)==False:\n",
    "            return False\n",
    "    stack.insert(0,r)\n",
    "    visited[r] = 2\n",
    "    return True\n",
    "\n",
    "\n",
    "G={3:[1,2], 1:[2], 2:[]}\n",
    "\n",
    "print(G,' -> ',topsort(G))\n",
    "      "
   ]
  },
  {
   "cell_type": "code",
   "execution_count": 86,
   "id": "a6981edb",
   "metadata": {},
   "outputs": [],
   "source": [
    "#Depth First Search DFS\n",
    "#pick first neighbor, then first neighbor of that neighbor, start DFS on each immediate neighbor, then return back...\n",
    "\n",
    "def dfs(G,r): #this is fake code    #Graph G, root R\n",
    "    push(r)\n",
    "    while u == pop():\n",
    "        visited[u] = True # Pre-order \n",
    "        for v in neighbour(G,u):\n",
    "            if not visited[v]:\n",
    "                push(v)\n",
    "    visited[u] = True # Post-order\n",
    "\n",
    "#data structures for DFS (Push and Pop)\n",
    "\n",
    "#DFS with recursion:\n",
    "\n",
    "def DFS(G,r):   #also fake code?\n",
    "    visited[r] = True\n",
    "    for v in neighbor(G,r):\n",
    "        if not visited[v]:\n",
    "            DFS(G,v)\n",
    "\n",
    "\n"
   ]
  },
  {
   "cell_type": "code",
   "execution_count": 87,
   "id": "5d73bb01",
   "metadata": {},
   "outputs": [],
   "source": [
    "G={7:[1,6],1:[2],2:[3,4],3:[6,5],4:[],5:[4],6:[5]}\n",
    "r = 1\n",
    "\n",
    "#print(DFS(G, r))   #fake code?"
   ]
  },
  {
   "cell_type": "code",
   "execution_count": null,
   "id": "319736c3",
   "metadata": {},
   "outputs": [],
   "source": []
  },
  {
   "cell_type": "code",
   "execution_count": 91,
   "id": "c75a7b23",
   "metadata": {},
   "outputs": [],
   "source": [
    "#Topsort (topological sort), sort all the nodes that if there is an arc uv, then u comes before v in that ordering\n",
    "#note not every graph has to have a topological sort...\n",
    "\n",
    "def topsort(G):\n",
    "    stack=[]\n",
    "    visited=[0]*(len(nodes(G))+1)\n",
    "    for v in nodes(G):\n",
    "        if visited[v]==0:\n",
    "            if visit(G,v,stack,visited)==False:\n",
    "                return None\n",
    "    return stack\n",
    "\n",
    "def visit(G,r,stack,visited):\n",
    "    if visited[r]==2:\n",
    "        return True\n",
    "    elif visited[r]==1:\n",
    "        return False\n",
    "    visited[r]=1\n",
    "    for v in neighbours(G,r):\n",
    "        if visit(G,v,stack,visited)==False:\n",
    "            return False\n",
    "    stack.insert(0,r)\n",
    "    visited[r] = 2\n",
    "    return True\n"
   ]
  },
  {
   "cell_type": "code",
   "execution_count": 81,
   "id": "1964d274",
   "metadata": {},
   "outputs": [
    {
     "name": "stdout",
     "output_type": "stream",
     "text": [
      "[7, 1, 2, 3, 6, 5, 4]\n"
     ]
    }
   ],
   "source": [
    "G={7:[1,6],1:[2],2:[3,4],3:[6,5],4:[],5:[4],6:[5]}\n",
    "\n",
    "print(topsort(G))"
   ]
  },
  {
   "cell_type": "code",
   "execution_count": null,
   "id": "067e819f",
   "metadata": {},
   "outputs": [],
   "source": []
  },
  {
   "cell_type": "code",
   "execution_count": 95,
   "id": "db7bdb47",
   "metadata": {},
   "outputs": [],
   "source": [
    "#Weighted Graph Stuff\n",
    "#graph structure helping stuff:\n",
    "\n",
    "def newgraph(v=None):\n",
    "    return {v:{}} if v is not None else {}\n",
    "\n",
    "def nodes(G):\n",
    "    return list(G)\n",
    "\n",
    "def nodecount(G):\n",
    "    return len(G)\n",
    "\n",
    "def addarc(G,e):\n",
    "    (u,v,w) = e\n",
    "    H=G.get(u,None)\n",
    "    if H is None:\n",
    "        G[u]={v:w}\n",
    "    else:\n",
    "        G[u][v]=w\n",
    "    H=G.get(v,None)\n",
    "    if H is None:\n",
    "        G[v]={}\n",
    "    \n",
    "def addedge(G,e): #add u,v and v,u\n",
    "    (u,v,w) = e\n",
    "    addarc(G,(u,v,w))\n",
    "    addarc(G,(v,u,w))\n",
    "\n",
    "    \n",
    "def neighbors(G,u): # Returns a list of neighbors  (this is neighbors without a u so function does not conflict)\n",
    "    a=[]\n",
    "    for v,w in G[u].items():\n",
    "        a.append((v,w))\n",
    "    return a\n",
    "\n",
    "\n",
    "def arcs(G):\n",
    "    all=[]\n",
    "    for u in G.keys():\n",
    "        for v,w in neighbors(G,u):\n",
    "            all.append((u,v,w))\n",
    "    return all\n",
    "\n",
    "def edges(G):\n",
    "    all=[]\n",
    "    for u in G.keys():\n",
    "        for v,w in neighbors(G,u):\n",
    "            if u<v:\n",
    "                all.append((u,v,w))\n",
    "    return all\n",
    "\n",
    "def nodeingraph_p(v,G):\n",
    "    H = G.get(v,False)\n",
    "    return H != False\n",
    "\n",
    "def boundaryedge_p(u,v,G):\n",
    "    H=nodeingraph_p(u,G)\n",
    "    return H!=False and not nodeingraph_p(v,G)\n",
    "\n"
   ]
  },
  {
   "cell_type": "code",
   "execution_count": 99,
   "id": "8b80f35b",
   "metadata": {},
   "outputs": [],
   "source": [
    "#Minimum Spanning Tree / Prim's algorithm   #Note runtime depends on data structure we use (Adjacency matrix, heap and linked list, etc)\n",
    "\n",
    "#Prim:\n",
    "\n",
    "def prim(G):\n",
    "    V = nodes(G)\n",
    "    n = len(V)\n",
    "    q = newheap(n*n)\n",
    "    T = newgraph(0)\n",
    "    for (v,w) in neighbors(G,0):\n",
    "        insert(q,(0, v, w))\n",
    "    while nodecount(T) < n:\n",
    "        (u,v,w) = extractsmallest(q)\n",
    "        if boundaryedge_p(u,v,T):\n",
    "            addedge(T,(u,v,w))\n",
    "            for (t,w) in neighbors(G,v):\n",
    "                if not nodeingraph_p(t,T):\n",
    "                    insert(q,(v,t,w))\n",
    "    return T\n",
    "\n",
    "\n",
    "\n",
    "\n",
    "#min heap stuff:\n",
    "\n",
    "def weight(edge):\n",
    "    return edge[2]\n",
    "\n",
    "def newheap(n):\n",
    "    return [0]*(n+1)\n",
    "\n",
    "def insert(a,e):\n",
    "    a[0] = a[0] + 1\n",
    "    a[a[0]] = e\n",
    "    heapfixup(a,a[0])\n",
    "    \n",
    "def heapfixup(a,i):\n",
    "    while i > 1:\n",
    "        p = i // 2\n",
    "        if weight(a[p]) > weight(a[i]):\n",
    "            a[p],a[i] = a[i],a[p]\n",
    "            i=p \n",
    "        else:\n",
    "            return\n",
    "        \n",
    "def extractsmallest(a):\n",
    "    e,a[1],a[0] = a[1],a[a[0]],a[0]-1\n",
    "    heapfixdown(a,1)\n",
    "    return e\n",
    "\n",
    "def heapfixdown(a,i):\n",
    "    while 2*i <= a[0]:\n",
    "        c = 2*i\n",
    "        if c+1 <= a[0]:\n",
    "            if weight(a[c+1]) < weight(a[c]):\n",
    "                c = c+1\n",
    "        if weight(a[i]) > weight(a[c]): \n",
    "            a[i],a[c] = a[c],a[i]\n",
    "            i=c\n",
    "        else: \n",
    "            return\n",
    "\n"
   ]
  },
  {
   "cell_type": "code",
   "execution_count": 98,
   "id": "24e0faee",
   "metadata": {},
   "outputs": [
    {
     "name": "stdout",
     "output_type": "stream",
     "text": [
      "{0: {1: 1, 3: 2}, 1: {0: 1, 2: 2, 4: 5}, 3: {0: 2, 2: 1, 4: 1}, 2: {1: 2, 3: 1}, 4: {1: 5, 3: 1}}\n",
      "{0: {1: 1, 3: 2}, 1: {0: 1}, 3: {0: 2, 2: 1, 4: 1}, 2: {3: 1}, 4: {3: 1}}\n",
      "Total MST cost is  5\n"
     ]
    }
   ],
   "source": [
    "G = newgraph()\n",
    "for e in [(0,1,1),(0,3,2),(1,2,2),(1,4,5),(2,3,1),(3,4,1)]:\n",
    "    addedge(G,e)\n",
    "print(G)\n",
    "T=prim(G)\n",
    "print(T)\n",
    "total=0\n",
    "for (u,v,w) in edges(T):\n",
    "    total += w\n",
    "print('Total MST cost is ',total)"
   ]
  },
  {
   "cell_type": "code",
   "execution_count": null,
   "id": "961f4b6d",
   "metadata": {},
   "outputs": [],
   "source": []
  },
  {
   "cell_type": "code",
   "execution_count": 102,
   "id": "9351eaff",
   "metadata": {},
   "outputs": [],
   "source": [
    "#Kruskal's algo for MST\n",
    "\n",
    "#A greedy algorithm\n",
    "#Start with an empty forest T While T does not span the graph:\n",
    "#Pick an edge (i,j) of minimum weight from G and delete it. If adding (i,j) to T does not form a cycle, add it.\n",
    "\n",
    "\n",
    "#New data structure: Union-Find:\n",
    "\n",
    "#first simple implementation:\n",
    "\n",
    "def initialize(n):\n",
    "    return [None]*n\n",
    "def find(p,u):\n",
    "    if p[u] == None:\n",
    "        return u\n",
    "    else:\n",
    "        return find(p,p[u])\n",
    "def union(p,u,v):\n",
    "    pu, pv = find(p,u), find(p,v)\n",
    "    p[pu] = pv\n",
    "\n",
    "    "
   ]
  },
  {
   "cell_type": "code",
   "execution_count": 103,
   "id": "506444a9",
   "metadata": {},
   "outputs": [
    {
     "data": {
      "text/plain": [
       "[5, 5, 5, 5]"
      ]
     },
     "execution_count": 103,
     "metadata": {},
     "output_type": "execute_result"
    }
   ],
   "source": [
    "p = initialize(10)\n",
    "find(p,2)\n",
    "union(p,2,6)\n",
    "find(p,2)\n",
    "find(p,6)\n",
    "union(p,3,5)\n",
    "union(p,2,3)\n",
    "[find(p,2), find(p,3), find(p,5), find(p,6)]"
   ]
  },
  {
   "cell_type": "code",
   "execution_count": 105,
   "id": "2a3afa21",
   "metadata": {},
   "outputs": [],
   "source": [
    "#Kruskal Implementation:\n",
    "\n",
    "def kruskal(G):\n",
    "    alledges = edges(G)\n",
    "    n = nodecount(G)\n",
    "    p,r = initialize(n)\n",
    "    q = newheap(len(alledges))\n",
    "    T = newgraph()\n",
    "    edgecount = 0\n",
    "    for edge in alledges:\n",
    "        insert(q,edge)\n",
    "    while edgecount < n-1:\n",
    "        (u,v,w) = extractsmallest(q)\n",
    "        if find(p,u) != find(p,v):\n",
    "            union(p,r,u,v)\n",
    "            addedge(T,(u,v,w))\n",
    "            edgecount += 1\n",
    "    return T\n"
   ]
  },
  {
   "cell_type": "code",
   "execution_count": 106,
   "id": "cc2fba53",
   "metadata": {},
   "outputs": [
    {
     "name": "stdout",
     "output_type": "stream",
     "text": [
      "{0: {1: 1, 3: 2}, 1: {0: 1, 2: 2, 4: 5}, 3: {0: 2, 2: 1, 4: 1}, 2: {1: 2, 3: 1}, 4: {1: 5, 3: 1}}\n"
     ]
    },
    {
     "ename": "ValueError",
     "evalue": "too many values to unpack (expected 2)",
     "output_type": "error",
     "traceback": [
      "\u001b[0;31m---------------------------------------------------------------------------\u001b[0m",
      "\u001b[0;31mValueError\u001b[0m                                Traceback (most recent call last)",
      "Cell \u001b[0;32mIn [106], line 6\u001b[0m\n\u001b[1;32m      4\u001b[0m     addedge(G,e)\n\u001b[1;32m      5\u001b[0m \u001b[38;5;28mprint\u001b[39m(G)\n\u001b[0;32m----> 6\u001b[0m T\u001b[38;5;241m=\u001b[39m\u001b[43mkruskal\u001b[49m\u001b[43m(\u001b[49m\u001b[43mG\u001b[49m\u001b[43m)\u001b[49m\n\u001b[1;32m      7\u001b[0m \u001b[38;5;28mprint\u001b[39m(T)\n\u001b[1;32m      8\u001b[0m total\u001b[38;5;241m=\u001b[39m\u001b[38;5;241m0\u001b[39m\n",
      "Cell \u001b[0;32mIn [105], line 6\u001b[0m, in \u001b[0;36mkruskal\u001b[0;34m(G)\u001b[0m\n\u001b[1;32m      4\u001b[0m alledges \u001b[38;5;241m=\u001b[39m edges(G)\n\u001b[1;32m      5\u001b[0m n \u001b[38;5;241m=\u001b[39m nodecount(G)\n\u001b[0;32m----> 6\u001b[0m p,r \u001b[38;5;241m=\u001b[39m initialize(n)\n\u001b[1;32m      7\u001b[0m q \u001b[38;5;241m=\u001b[39m newheap(\u001b[38;5;28mlen\u001b[39m(alledges))\n\u001b[1;32m      8\u001b[0m T \u001b[38;5;241m=\u001b[39m newgraph()\n",
      "\u001b[0;31mValueError\u001b[0m: too many values to unpack (expected 2)"
     ]
    }
   ],
   "source": [
    "#test Kruskal:\n",
    "G = newgraph(0)\n",
    "for e in [(0,1,1),(0,3,2),(1,2,2),(1,4,5),(2,3,1),(3,4,1)]:\n",
    "    addedge(G,e)\n",
    "print(G)\n",
    "\n",
    "T=kruskal(G)\n",
    "print(T)\n",
    "total=0\n",
    "for (u,v,w) in edges(T):\n",
    "    total += w\n",
    "print('Total MST cost is ',total)"
   ]
  },
  {
   "cell_type": "code",
   "execution_count": null,
   "id": "28e2031e",
   "metadata": {},
   "outputs": [],
   "source": []
  },
  {
   "cell_type": "markdown",
   "id": "e443b55e",
   "metadata": {},
   "source": [
    "#Dijkstra:\n",
    "\n",
    "Yet another greedy algorithm\n",
    "\n",
    "Given a root node r which forms a tree T\n",
    "\n",
    "Let D be the vector of distances of every node to r. While T does not span G\n",
    "\n",
    "Pick a node v of minimum distance in D\n",
    "\n",
    "Add node v to T\n",
    "\n",
    "Update the distance vector D of neighbours of v if you can lower the distance.\n",
    "\n",
    "Dijkstra may fail on negative weights, given it only updates distance vector not the tree itself\n"
   ]
  },
  {
   "cell_type": "code",
   "execution_count": 108,
   "id": "41af1e41",
   "metadata": {},
   "outputs": [
    {
     "ename": "SyntaxError",
     "evalue": "invalid syntax (1607696023.py, line 4)",
     "output_type": "error",
     "traceback": [
      "\u001b[0;36m  Cell \u001b[0;32mIn [108], line 4\u001b[0;36m\u001b[0m\n\u001b[0;31m    T,d,p = {r},[X]*|V|,[0]*|V|\u001b[0m\n\u001b[0m                    ^\u001b[0m\n\u001b[0;31mSyntaxError\u001b[0m\u001b[0;31m:\u001b[0m invalid syntax\n"
     ]
    }
   ],
   "source": [
    "#Dikstra pseudo code:\n",
    "\n",
    "def dijkstra(G,r):\n",
    "    T,d,p = {r},[X]*|V|,[0]*|V|\n",
    "    d[r] = 0\n",
    "    for v in neighbors(G,r):\n",
    "        d[v] = weight(G,(r,v))\n",
    "    while size(T) < size(G):\n",
    "        v = Cheapest(T,d)\n",
    "        T.append(v)\n",
    "        for u in neighbors(G,v):\n",
    "            if d[u] > d[v]+weight(G,(v,u)):\n",
    "                d[u] = d[v]+weight(G,(v,u))\n",
    "                p[u] = v\n",
    "                \n",
    "    #RUNTIME DEPENDS ON DATA STRUCTURE (i.e. minheap, fib heap, ...)\n",
    "                "
   ]
  },
  {
   "cell_type": "code",
   "execution_count": 109,
   "id": "ddf3e2b0",
   "metadata": {},
   "outputs": [],
   "source": [
    "#Bellman Ford:\n",
    "#We modify dijkstra so we can deal with negative weights better\n",
    "\n",
    "def bellman_ford(G,r):\n",
    "    n = len(nodes(G))\n",
    "    d,p = [float('inf')]*n,[None]*n\n",
    "    d[r] = 0\n",
    "    for _ in range(n):\n",
    "        for (u,v,w) in arcs(G):\n",
    "            if d[v] > d[u] + w:\n",
    "                d[v] = d[u] + w\n",
    "                p[v] = u\n",
    "    return p,d\n",
    "\n"
   ]
  },
  {
   "cell_type": "code",
   "execution_count": 114,
   "id": "c5c6cd4d",
   "metadata": {},
   "outputs": [
    {
     "name": "stdout",
     "output_type": "stream",
     "text": [
      "{0: {1: 4, 2: 5}, 1: {4: 10, 3: 3, 2: 6}, 2: {3: 4, 5: 9}, 4: {6: 2, 5: 3, 3: -4}, 3: {}, 5: {4: 2, 6: 2}, 6: {}}\n",
      "([None, 0, 0, 1, 1, 2, 4], [0, 4, 5, 7, 14, 14, 16])\n"
     ]
    }
   ],
   "source": [
    "G=newgraph()\n",
    "for e in [(0,1,4),(0,2,5),(1,4,10),(1,3,3),(1,2,6),(2,3,4),(2,5,9),\n",
    "          (4,6,2),(4,5,3),(4,3,-4),(5,4,2),(5,6,2)]:\n",
    "    addarc(G,e)\n",
    "print(G)\n",
    "print(bellman_ford(G,0))"
   ]
  },
  {
   "cell_type": "code",
   "execution_count": 115,
   "id": "26b121b8",
   "metadata": {},
   "outputs": [],
   "source": [
    "#addition to our graph library, adjacancy:\n",
    "\n",
    "def adjacency(G):\n",
    "    n = len(nodes(G))\n",
    "    a = [[0 if u==v else float('inf') for u in range(n)]\n",
    "       for v in range(n)]\n",
    "    for (u,v,w) in arcs(G):\n",
    "        a[u][v] = w\n",
    "    return a"
   ]
  },
  {
   "cell_type": "code",
   "execution_count": 118,
   "id": "47b121f9",
   "metadata": {},
   "outputs": [
    {
     "data": {
      "text/plain": [
       "[[0, 4, 5, inf, inf, inf, inf],\n",
       " [inf, 0, 6, 3, 10, inf, inf],\n",
       " [inf, inf, 0, 4, inf, 9, inf],\n",
       " [inf, inf, inf, 0, inf, inf, inf],\n",
       " [inf, inf, inf, -4, 0, 3, 2],\n",
       " [inf, inf, inf, inf, 2, 0, 2],\n",
       " [inf, inf, inf, inf, inf, inf, 0]]"
      ]
     },
     "execution_count": 118,
     "metadata": {},
     "output_type": "execute_result"
    }
   ],
   "source": [
    "G=newgraph()\n",
    "for e in [(0,1,4),(0,2,5),(1,4,10),(1,3,3),(1,2,6),(2,3,4),(2,5,9),\n",
    "          (4,6,2),(4,5,3),(4,3,-4),(5,4,2),(5,6,2)]:\n",
    "    addarc(G,e)\n",
    "    \n",
    "adjacency(G)"
   ]
  },
  {
   "cell_type": "code",
   "execution_count": 119,
   "id": "a02da734",
   "metadata": {},
   "outputs": [],
   "source": [
    "#all pairs: Floyd Warshall:\n",
    "\n",
    "def floyd_warshall(G):\n",
    "    allnodes = nodes(G)\n",
    "    n = len(nodes(G))\n",
    "    a = adjacency(G)\n",
    "    for k in allnodes:\n",
    "        for u in allnodes:\n",
    "            for v in allnodes:\n",
    "                a[u][v] = min(a[u][v], a[u][k] + a[k][v])\n",
    "    return a\n",
    "\n"
   ]
  },
  {
   "cell_type": "code",
   "execution_count": 120,
   "id": "dcc3d87f",
   "metadata": {},
   "outputs": [
    {
     "name": "stdout",
     "output_type": "stream",
     "text": [
      "[[0, 4, 5, 7, 14, 14, 16], [inf, 0, 6, 3, 10, 13, 12], [inf, inf, 0, 4, 11, 9, 11], [inf, inf, inf, 0, inf, inf, inf], [inf, inf, inf, -4, 0, 3, 2], [inf, inf, inf, -2, 2, 0, 2], [inf, inf, inf, inf, inf, inf, 0]]\n"
     ]
    }
   ],
   "source": [
    "G=newgraph()\n",
    "for e in [(0,1,4),(0,2,5),(1,4,10),(1,3,3),(1,2,6),(2,3,4),(2,5,9),\n",
    "          (4,6,2),(4,5,3),(4,3,-4),(5,4,2),(5,6,2)]:\n",
    "    addarc(G,e)\n",
    "a=floyd_warshall(G)\n",
    "print(a)"
   ]
  },
  {
   "cell_type": "code",
   "execution_count": null,
   "id": "2e5e70ae",
   "metadata": {},
   "outputs": [],
   "source": []
  },
  {
   "cell_type": "code",
   "execution_count": null,
   "id": "e163ac36",
   "metadata": {},
   "outputs": [],
   "source": []
  }
 ],
 "metadata": {
  "kernelspec": {
   "display_name": "Python 3 (ipykernel)",
   "language": "python",
   "name": "python3"
  },
  "language_info": {
   "codemirror_mode": {
    "name": "ipython",
    "version": 3
   },
   "file_extension": ".py",
   "mimetype": "text/x-python",
   "name": "python",
   "nbconvert_exporter": "python",
   "pygments_lexer": "ipython3",
   "version": "3.10.4"
  }
 },
 "nbformat": 4,
 "nbformat_minor": 5
}
