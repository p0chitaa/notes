{
 "cells": [
  {
   "cell_type": "code",
   "execution_count": 5,
   "id": "71ecf4a1",
   "metadata": {},
   "outputs": [],
   "source": [
    "def findMedian(a, n):\n",
    "    sorted(a)\n",
    "    \n",
    "    if n%2 != 0:\n",
    "        return float(a[int(n/2)])\n",
    "    \n",
    "    return float((a[int((n-1)/2)] + a[int(n/2)])/2.0)"
   ]
  },
  {
   "cell_type": "code",
   "execution_count": null,
   "id": "40cfcbbe",
   "metadata": {},
   "outputs": [],
   "source": []
  }
 ],
 "metadata": {
  "kernelspec": {
   "display_name": "Python 3 (ipykernel)",
   "language": "python",
   "name": "python3"
  },
  "language_info": {
   "codemirror_mode": {
    "name": "ipython",
    "version": 3
   },
   "file_extension": ".py",
   "mimetype": "text/x-python",
   "name": "python",
   "nbconvert_exporter": "python",
   "pygments_lexer": "ipython3",
   "version": "3.10.4"
  }
 },
 "nbformat": 4,
 "nbformat_minor": 5
}
